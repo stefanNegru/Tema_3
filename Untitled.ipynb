{
 "cells": [
  {
   "cell_type": "code",
   "execution_count": 68,
   "metadata": {},
   "outputs": [
    {
     "name": "stdout",
     "output_type": "stream",
     "text": [
      "[0 0 1 1 1]\n",
      "1.0\n",
      "[0 1 0 0 0 0 0 0 0 0]\n",
      "0.021484374999999997\n",
      "[1 0 1 0 1 1 0 0 0 0 0 1 0 1 0 0 1 0 0 1 0 1 0 1 1 0 1 1 0 1]\n",
      "0.8555355519056318\n"
     ]
    }
   ],
   "source": [
    "import numpy as np\n",
    "import pandas as pd\n",
    "import scipy\n",
    "import matplotlib.pyplot as plt\n",
    "import scipy.stats as stats\n",
    "import math as m\n",
    "\n",
    "coin_sample5 = np.random.binomial(1, 0.5, 5)\n",
    "coin_average5 = [coin_sample5[:jj].mean() for jj in range(1, 5)]\n",
    "heads = np.sum(coin_sample5[coin_sample5==1])\n",
    "print(coin_sample5)\n",
    "print(stats.binom_test(x=[heads,5-heads], p=0.5, alternative='two-sided'))\n",
    "\n",
    "\n",
    "coin_sample10 = np.random.binomial(1, 0.5, 10)\n",
    "coin_average10 = [coin_sample10[:jj].mean() for jj in range(1, 10)]\n",
    "heads = np.sum(coin_sample10[coin_sample10==1])\n",
    "print(coin_sample10)\n",
    "print(stats.binom_test(x=[heads,10-heads], p=0.5, alternative='two-sided'))\n",
    "\n",
    "\n",
    "coin_sample30 = np.random.binomial(1, 0.5, 30)\n",
    "coin_average30 = [coin_sample30[:jj].mean() for jj in range(1, 30)]\n",
    "heads = np.sum(coin_sample30[coin_sample30==1])\n",
    "print(coin_sample30)\n",
    "print(stats.binom_test(x=[heads,30-heads], p=0.5, alternative='two-sided'))\n"
   ]
  },
  {
   "cell_type": "markdown",
   "metadata": {},
   "source": []
  },
  {
   "cell_type": "code",
   "execution_count": null,
   "metadata": {},
   "outputs": [],
   "source": []
  },
  {
   "cell_type": "code",
   "execution_count": 80,
   "metadata": {},
   "outputs": [
    {
     "data": {
      "image/png": "[encoded data removed]",
      "text/plain": [
       "<Figure size 432x288 with 1 Axes>"
      ]
     },
     "metadata": {
      "needs_background": "light"
     },
     "output_type": "display_data"
    }
   ],
   "source": [
    "pearson = pd.read_csv('pearson.csv')\n",
    "ms = pearson[pearson['gp']=='ms']\n",
    "md = pearson[pearson['gp']=='md']\n",
    "\n",
    "\n",
    "plt.scatter(\n",
    "    ms['child'] + np.random.normal(scale=0.2, size=ms.shape[0]), \n",
    "    ms['parent'] + np.random.normal(scale=0.2, size=ms.shape[0]), c='r')\n",
    "plt.scatter(\n",
    "    md['child'] + np.random.normal(scale=0.2, size=md.shape[0]), \n",
    "    md['parent'] + np.random.normal(scale=0.2, size=md.shape[0]), c='b')\n",
    "plt.show()"
   ]
  },
  {
   "cell_type": "code",
   "execution_count": 59,
   "metadata": {},
   "outputs": [
    {
     "data": {
      "text/plain": [
       "(0.48491768425178655, 9.100362271636465e-12)"
      ]
     },
     "execution_count": 59,
     "metadata": {},
     "output_type": "execute_result"
    }
   ],
   "source": [
    "stats.pearsonr(ms['parent'], ms['child'])"
   ]
  },
  {
   "cell_type": "code",
   "execution_count": 60,
   "metadata": {},
   "outputs": [
    {
     "data": {
      "text/plain": [
       "(0.46743677130123995, 1.9747722235599194e-11)"
      ]
     },
     "execution_count": 60,
     "metadata": {},
     "output_type": "execute_result"
    }
   ],
   "source": [
    "stats.pearsonr(md['parent'], md['child'])"
   ]
  },
  {
   "cell_type": "code",
   "execution_count": 90,
   "metadata": {},
   "outputs": [
    {
     "name": "stdout",
     "output_type": "stream",
     "text": [
      "Confidence interval la 5 aruncari: (-0.09599639845400537, 0.2959963984540054)\n"
     ]
    }
   ],
   "source": [
    "n, min_max, mean, var, skew, kurt = stats.describe(coin_sample10)\n",
    "std=m.sqrt(var)\n",
    "\n",
    "print('Confidence interval la 5 aruncari:', stats.norm.interval(0.95,loc=mean,scale=std/m.sqrt(n)))"
   ]
  },
  {
   "cell_type": "code",
   "execution_count": 91,
   "metadata": {},
   "outputs": [
    {
     "name": "stdout",
     "output_type": "stream",
     "text": [
      "Confidence interval la 10 aruncari: (0.2850934252844799, 0.6482399080488535)\n"
     ]
    }
   ],
   "source": [
    "n, min_max, mean, var, skew, kurt = stats.describe(coin_sample30)\n",
    "std=m.sqrt(var)\n",
    "\n",
    "print('Confidence interval la 10 aruncari:', stats.norm.interval(0.95,loc=mean,scale=std/m.sqrt(n)))"
   ]
  },
  {
   "cell_type": "code",
   "execution_count": 92,
   "metadata": {},
   "outputs": [
    {
     "name": "stdout",
     "output_type": "stream",
     "text": [
      "Confidence interval la 30 aruncari: (0.11990883236446898, 1.080091167635531)\n"
     ]
    }
   ],
   "source": [
    "n, min_max, mean, var, skew, kurt = stats.describe(coin_sample5)\n",
    "std=m.sqrt(var)\n",
    "\n",
    "print('Confidence interval la 30 aruncari:', stats.norm.interval(0.95,loc=mean,scale=std/m.sqrt(n)))"
   ]
  },
  {
   "cell_type": "code",
   "execution_count": null,
   "metadata": {},
   "outputs": [],
   "source": []
  }
 ],
 "metadata": {
  "kernelspec": {
   "display_name": "Python 3",
   "language": "python",
   "name": "python3"
  },
  "language_info": {
   "codemirror_mode": {
    "name": "ipython",
    "version": 3
   },
   "file_extension": ".py",
   "mimetype": "text/x-python",
   "name": "python",
   "nbconvert_exporter": "python",
   "pygments_lexer": "ipython3",
   "version": "3.7.4"
  }
 },
 "nbformat": 4,
 "nbformat_minor": 2
}
